{
 "cells": [
  {
   "cell_type": "code",
   "execution_count": 3,
   "metadata": {},
   "outputs": [],
   "source": [
    "import seaborn as sns\n",
    "import matplotlib.pyplot as plt\n",
    "import numpy\n",
    "import pandas as pd\n",
    "from sklearn.preprocessing import LabelEncoder"
   ]
  },
  {
   "cell_type": "code",
   "execution_count": 4,
   "metadata": {},
   "outputs": [],
   "source": [
    "from sklearn.model_selection import train_test_split\n",
    "import pandas as pd\n",
    "\n",
    "# Carregar seus dados\n",
    "df = pd.read_csv(\"C:/Users/Adrian/Desktop/A2 Modelagem/train.csv\")\n",
    "\n",
    "df.drop(\"ID\", axis=1, inplace=True)\n",
    "df.drop(\"age_desc\", axis=1, inplace=True)\n",
    "# df.drop(\"ethnicity\", axis=1, inplace=True)\n",
    "# df.drop(\"contry_of_res\", axis=1, inplace=True)\n",
    "# df.drop(\"age_desc\", axis=1, inplace=True)\n",
    "# df.drop(\"relation\", axis=1, inplace=True)\n",
    "\n",
    "df['gender'] = df['gender'].apply(lambda x: 0 if x == 'm' else 1)\n",
    "df['jaundice'] = df['jaundice'].apply(lambda x: 0 if x == 'no' else 1)\n",
    "df['austim'] = df['austim'].apply(lambda x: 0 if x == 'no' else 1)\n",
    "df['used_app_before'] = df['used_app_before'].apply(lambda x: 0 if x == 'no' else 1)\n",
    "df = df.dropna()\n",
    "\n",
    "label_encoder = LabelEncoder()\n",
    "label_encoder_etinia = LabelEncoder()\n",
    "label_encoder_lugar = LabelEncoder()\n",
    "label_encoder_realation = LabelEncoder()\n",
    "\n",
    "\n",
    "df.iloc[:,12]= label_encoder_etinia.fit_transform(df.iloc[:,12]) #Etinia\n",
    "df.iloc[:,15] = label_encoder_lugar.fit_transform(df.iloc[:,15]) # Counry. Tranfomar essas colunas em fator, já que não estão e números\n",
    "df.iloc[:,18] = label_encoder_realation.fit_transform(df.iloc[:,18]) \n",
    "\n",
    "# Dividir os dados em treino e teste\n",
    "base_treino, base_teste = train_test_split(df, test_size=0.2, random_state=42)\n",
    "\n",
    "\n"
   ]
  },
  {
   "cell_type": "code",
   "execution_count": 5,
   "metadata": {},
   "outputs": [],
   "source": [
    "X_val = base_teste.iloc[: ,0:18].values # Pegando as variaveis independentes #teste 200\n",
    "y_val = base_teste.iloc[:,19].values # Pegando a variavel dependente\n",
    "\n",
    "X_train = base_treino.iloc[: ,0:18].values # Pegando as variaveis independentes #Train 600\n",
    "y_train = base_treino.iloc[:,19].values # Pegando a variavel dependente"
   ]
  },
  {
   "cell_type": "markdown",
   "metadata": {},
   "source": [
    "#### Gradient Boosting Machines (GBM)\n",
    "\n",
    "##### XGBoost"
   ]
  },
  {
   "cell_type": "code",
   "execution_count": 6,
   "metadata": {},
   "outputs": [
    {
     "name": "stdout",
     "output_type": "stream",
     "text": [
      "XGBoost:\n",
      "Acurácia: 0.8125\n",
      "              precision    recall  f1-score   support\n",
      "\n",
      "           0       0.87      0.89      0.88       124\n",
      "           1       0.59      0.56      0.57        36\n",
      "\n",
      "    accuracy                           0.81       160\n",
      "   macro avg       0.73      0.72      0.73       160\n",
      "weighted avg       0.81      0.81      0.81       160\n",
      "\n"
     ]
    }
   ],
   "source": [
    "from xgboost import XGBClassifier\n",
    "from sklearn.metrics import accuracy_score, classification_report\n",
    "\n",
    "# Treinar o modelo de XGBoost\n",
    "xgb_clf = XGBClassifier(use_label_encoder=False, eval_metric='logloss')\n",
    "xgb_clf.fit(X_train, y_train)\n",
    "y_pred_xgb = xgb_clf.predict(X_val)\n",
    "\n",
    "# Avaliar o modelo\n",
    "print(\"XGBoost:\")\n",
    "print(\"Acurácia:\", accuracy_score(y_val, y_pred_xgb))\n",
    "print(classification_report(y_val, y_pred_xgb))"
   ]
  },
  {
   "cell_type": "markdown",
   "metadata": {},
   "source": [
    "##### LightGBM\n"
   ]
  },
  {
   "cell_type": "code",
   "execution_count": 7,
   "metadata": {},
   "outputs": [
    {
     "name": "stdout",
     "output_type": "stream",
     "text": [
      "[LightGBM] [Info] Number of positive: 125, number of negative: 515\n",
      "[LightGBM] [Info] Auto-choosing row-wise multi-threading, the overhead of testing was 0.001227 seconds.\n",
      "You can set `force_row_wise=true` to remove the overhead.\n",
      "And if memory is not enough, you can set `force_col_wise=true`.\n",
      "[LightGBM] [Info] Total Bins 509\n",
      "[LightGBM] [Info] Number of data points in the train set: 640, number of used features: 18\n",
      "[LightGBM] [Info] [binary:BoostFromScore]: pavg=0.195312 -> initscore=-1.415853\n",
      "[LightGBM] [Info] Start training from score -1.415853\n",
      "[LightGBM] [Warning] No further splits with positive gain, best gain: -inf\n",
      "[LightGBM] [Warning] No further splits with positive gain, best gain: -inf\n",
      "[LightGBM] [Warning] No further splits with positive gain, best gain: -inf\n",
      "[LightGBM] [Warning] No further splits with positive gain, best gain: -inf\n",
      "[LightGBM] [Warning] No further splits with positive gain, best gain: -inf\n",
      "[LightGBM] [Warning] No further splits with positive gain, best gain: -inf\n",
      "[LightGBM] [Warning] No further splits with positive gain, best gain: -inf\n",
      "[LightGBM] [Warning] No further splits with positive gain, best gain: -inf\n",
      "[LightGBM] [Warning] No further splits with positive gain, best gain: -inf\n",
      "[LightGBM] [Warning] No further splits with positive gain, best gain: -inf\n",
      "[LightGBM] [Warning] No further splits with positive gain, best gain: -inf\n",
      "[LightGBM] [Warning] No further splits with positive gain, best gain: -inf\n",
      "[LightGBM] [Warning] No further splits with positive gain, best gain: -inf\n",
      "[LightGBM] [Warning] No further splits with positive gain, best gain: -inf\n",
      "[LightGBM] [Warning] No further splits with positive gain, best gain: -inf\n",
      "[LightGBM] [Warning] No further splits with positive gain, best gain: -inf\n",
      "[LightGBM] [Warning] No further splits with positive gain, best gain: -inf\n",
      "[LightGBM] [Warning] No further splits with positive gain, best gain: -inf\n",
      "[LightGBM] [Warning] No further splits with positive gain, best gain: -inf\n",
      "[LightGBM] [Warning] No further splits with positive gain, best gain: -inf\n",
      "[LightGBM] [Warning] No further splits with positive gain, best gain: -inf\n",
      "[LightGBM] [Warning] No further splits with positive gain, best gain: -inf\n",
      "[LightGBM] [Warning] No further splits with positive gain, best gain: -inf\n",
      "[LightGBM] [Warning] No further splits with positive gain, best gain: -inf\n",
      "[LightGBM] [Warning] No further splits with positive gain, best gain: -inf\n",
      "[LightGBM] [Warning] No further splits with positive gain, best gain: -inf\n",
      "[LightGBM] [Warning] No further splits with positive gain, best gain: -inf\n",
      "[LightGBM] [Warning] No further splits with positive gain, best gain: -inf\n",
      "[LightGBM] [Warning] No further splits with positive gain, best gain: -inf\n",
      "[LightGBM] [Warning] No further splits with positive gain, best gain: -inf\n",
      "[LightGBM] [Warning] No further splits with positive gain, best gain: -inf\n",
      "[LightGBM] [Warning] No further splits with positive gain, best gain: -inf\n",
      "[LightGBM] [Warning] No further splits with positive gain, best gain: -inf\n",
      "[LightGBM] [Warning] No further splits with positive gain, best gain: -inf\n",
      "[LightGBM] [Warning] No further splits with positive gain, best gain: -inf\n",
      "[LightGBM] [Warning] No further splits with positive gain, best gain: -inf\n",
      "[LightGBM] [Warning] No further splits with positive gain, best gain: -inf\n",
      "[LightGBM] [Warning] No further splits with positive gain, best gain: -inf\n",
      "[LightGBM] [Warning] No further splits with positive gain, best gain: -inf\n",
      "[LightGBM] [Warning] No further splits with positive gain, best gain: -inf\n",
      "[LightGBM] [Warning] No further splits with positive gain, best gain: -inf\n",
      "[LightGBM] [Warning] No further splits with positive gain, best gain: -inf\n",
      "[LightGBM] [Warning] No further splits with positive gain, best gain: -inf\n",
      "[LightGBM] [Warning] No further splits with positive gain, best gain: -inf\n",
      "[LightGBM] [Warning] No further splits with positive gain, best gain: -inf\n",
      "[LightGBM] [Warning] No further splits with positive gain, best gain: -inf\n",
      "[LightGBM] [Warning] No further splits with positive gain, best gain: -inf\n",
      "[LightGBM] [Warning] No further splits with positive gain, best gain: -inf\n",
      "[LightGBM] [Warning] No further splits with positive gain, best gain: -inf\n",
      "[LightGBM] [Warning] No further splits with positive gain, best gain: -inf\n",
      "[LightGBM] [Warning] No further splits with positive gain, best gain: -inf\n",
      "[LightGBM] [Warning] No further splits with positive gain, best gain: -inf\n",
      "[LightGBM] [Warning] No further splits with positive gain, best gain: -inf\n",
      "[LightGBM] [Warning] No further splits with positive gain, best gain: -inf\n",
      "[LightGBM] [Warning] No further splits with positive gain, best gain: -inf\n",
      "[LightGBM] [Warning] No further splits with positive gain, best gain: -inf\n",
      "LightGBM:\n",
      "Acurácia: 0.83125\n",
      "              precision    recall  f1-score   support\n",
      "\n",
      "           0       0.88      0.91      0.89       124\n",
      "           1       0.65      0.56      0.60        36\n",
      "\n",
      "    accuracy                           0.83       160\n",
      "   macro avg       0.76      0.73      0.75       160\n",
      "weighted avg       0.82      0.83      0.83       160\n",
      "\n"
     ]
    }
   ],
   "source": [
    "import lightgbm as lgb\n",
    "\n",
    "# Treinar o modelo de LightGBM\n",
    "lgb_clf = lgb.LGBMClassifier()\n",
    "lgb_clf.fit(X_train, y_train)\n",
    "y_pred_lgb = lgb_clf.predict(X_val)\n",
    "\n",
    "# Avaliar o modelo\n",
    "print(\"LightGBM:\")\n",
    "print(\"Acurácia:\", accuracy_score(y_val, y_pred_lgb))\n",
    "print(classification_report(y_val, y_pred_lgb))"
   ]
  },
  {
   "cell_type": "markdown",
   "metadata": {},
   "source": [
    "#### Support Vector Machines (SVM)"
   ]
  },
  {
   "cell_type": "code",
   "execution_count": 8,
   "metadata": {},
   "outputs": [
    {
     "name": "stdout",
     "output_type": "stream",
     "text": [
      "SVM:\n",
      "Acurácia: 0.76875\n",
      "              precision    recall  f1-score   support\n",
      "\n",
      "           0       0.78      0.97      0.87       124\n",
      "           1       0.43      0.08      0.14        36\n",
      "\n",
      "    accuracy                           0.77       160\n",
      "   macro avg       0.61      0.53      0.50       160\n",
      "weighted avg       0.70      0.77      0.70       160\n",
      "\n"
     ]
    }
   ],
   "source": [
    "from sklearn.svm import SVC\n",
    "\n",
    "# Treinar o modelo de SVM\n",
    "svm_clf = SVC()\n",
    "svm_clf.fit(X_train, y_train)\n",
    "y_pred_svm = svm_clf.predict(X_val)\n",
    "\n",
    "# Avaliar o modelo\n",
    "print(\"SVM:\")\n",
    "print(\"Acurácia:\", accuracy_score(y_val, y_pred_svm))\n",
    "print(classification_report(y_val, y_pred_svm))"
   ]
  },
  {
   "cell_type": "markdown",
   "metadata": {},
   "source": [
    "#### K-Nearest Neighbors (KNN)"
   ]
  },
  {
   "cell_type": "code",
   "execution_count": 9,
   "metadata": {},
   "outputs": [
    {
     "name": "stdout",
     "output_type": "stream",
     "text": [
      "KNN:\n",
      "Acurácia: 0.81875\n",
      "              precision    recall  f1-score   support\n",
      "\n",
      "           0       0.85      0.93      0.89       124\n",
      "           1       0.64      0.44      0.52        36\n",
      "\n",
      "    accuracy                           0.82       160\n",
      "   macro avg       0.75      0.69      0.71       160\n",
      "weighted avg       0.80      0.82      0.81       160\n",
      "\n"
     ]
    }
   ],
   "source": [
    "from sklearn.neighbors import KNeighborsClassifier\n",
    "\n",
    "# Treinar o modelo de KNN\n",
    "knn_clf = KNeighborsClassifier(n_neighbors=5)\n",
    "knn_clf.fit(X_train, y_train)\n",
    "y_pred_knn = knn_clf.predict(X_val)\n",
    "\n",
    "# Avaliar o modelo\n",
    "print(\"KNN:\")\n",
    "print(\"Acurácia:\", accuracy_score(y_val, y_pred_knn))\n",
    "print(classification_report(y_val, y_pred_knn))"
   ]
  }
 ],
 "metadata": {
  "kernelspec": {
   "display_name": "Python 3",
   "language": "python",
   "name": "python3"
  },
  "language_info": {
   "codemirror_mode": {
    "name": "ipython",
    "version": 3
   },
   "file_extension": ".py",
   "mimetype": "text/x-python",
   "name": "python",
   "nbconvert_exporter": "python",
   "pygments_lexer": "ipython3",
   "version": "3.12.1"
  }
 },
 "nbformat": 4,
 "nbformat_minor": 2
}
